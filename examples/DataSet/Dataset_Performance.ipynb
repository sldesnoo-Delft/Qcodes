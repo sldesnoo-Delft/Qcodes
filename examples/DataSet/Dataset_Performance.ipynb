{
 "cells": [
  {
   "cell_type": "markdown",
   "metadata": {},
   "source": [
    "# DataSet Performance\n",
    "\n",
    "This notebook shows the trade-off between inserting data into a database row-by-row and as binary blobs. Inserting the data row-by-row means that we have direct access to all the data and may perform queries directly on the values of the data. On the other hand, as we shall see, this is much slower than inserting the data directly as binary blobs."
   ]
  },
  {
   "cell_type": "markdown",
   "metadata": {},
   "source": [
    "First, we choose a new location for the database to ensure that we don't add a bunch of benchmarking data to the default one."
   ]
  },
  {
   "cell_type": "code",
   "execution_count": 1,
   "metadata": {
    "execution": {
     "iopub.execute_input": "2022-04-07T16:06:15.702217Z",
     "iopub.status.busy": "2022-04-07T16:06:15.702021Z",
     "iopub.status.idle": "2022-04-07T16:06:15.924819Z",
     "shell.execute_reply": "2022-04-07T16:06:15.924335Z"
    }
   },
   "outputs": [],
   "source": [
    "import os\n",
    "cwd = os.getcwd()\n",
    "import qcodes as qc\n",
    "qc.config[\"core\"][\"db_location\"] = os.path.join(cwd, 'testing.db')\n"
   ]
  },
  {
   "cell_type": "code",
   "execution_count": 2,
   "metadata": {
    "execution": {
     "iopub.execute_input": "2022-04-07T16:06:15.927806Z",
     "iopub.status.busy": "2022-04-07T16:06:15.927404Z",
     "iopub.status.idle": "2022-04-07T16:06:16.585448Z",
     "shell.execute_reply": "2022-04-07T16:06:16.584937Z"
    }
   },
   "outputs": [],
   "source": [
    "%matplotlib inline\n",
    "import time\n",
    "import matplotlib.pyplot as plt\n",
    "import numpy as np\n",
    "\n",
    "import qcodes as qc\n",
    "from qcodes.instrument.parameter import ManualParameter\n",
    "from qcodes.dataset.experiment_container import (Experiment,\n",
    "                                                 load_last_experiment,\n",
    "                                                 new_experiment)\n",
    "from qcodes.dataset.sqlite.database import initialise_database\n",
    "from qcodes import load_or_create_experiment\n",
    "from qcodes.dataset.measurements import Measurement"
   ]
  },
  {
   "cell_type": "code",
   "execution_count": 3,
   "metadata": {
    "execution": {
     "iopub.execute_input": "2022-04-07T16:06:16.588468Z",
     "iopub.status.busy": "2022-04-07T16:06:16.588030Z",
     "iopub.status.idle": "2022-04-07T16:06:16.646029Z",
     "shell.execute_reply": "2022-04-07T16:06:16.645550Z"
    }
   },
   "outputs": [
    {
     "name": "stdout",
     "output_type": "stream",
     "text": [
      "\r",
      "0it [00:00, ?it/s]"
     ]
    },
    {
     "name": "stdout",
     "output_type": "stream",
     "text": [
      "\r",
      "Upgrading database; v0 -> v1: : 0it [00:00, ?it/s]"
     ]
    },
    {
     "name": "stdout",
     "output_type": "stream",
     "text": [
      "\r",
      "Upgrading database; v0 -> v1: : 0it [00:00, ?it/s]"
     ]
    },
    {
     "name": "stdout",
     "output_type": "stream",
     "text": [
      "\n"
     ]
    },
    {
     "name": "stdout",
     "output_type": "stream",
     "text": [
      "\r",
      "  0%|          | 0/1 [00:00<?, ?it/s]"
     ]
    },
    {
     "name": "stdout",
     "output_type": "stream",
     "text": [
      "\r",
      "Upgrading database; v1 -> v2:   0%|          | 0/1 [00:00<?, ?it/s]"
     ]
    },
    {
     "name": "stdout",
     "output_type": "stream",
     "text": [
      "\r",
      "Upgrading database; v1 -> v2: 100%|██████████| 1/1 [00:00<00:00, 1275.25it/s]"
     ]
    },
    {
     "name": "stdout",
     "output_type": "stream",
     "text": [
      "\n"
     ]
    },
    {
     "name": "stdout",
     "output_type": "stream",
     "text": [
      "\r",
      "0it [00:00, ?it/s]"
     ]
    },
    {
     "name": "stdout",
     "output_type": "stream",
     "text": [
      "\r",
      "Upgrading database; v2 -> v3: : 0it [00:00, ?it/s]"
     ]
    },
    {
     "name": "stdout",
     "output_type": "stream",
     "text": [
      "\r",
      "Upgrading database; v2 -> v3: : 0it [00:00, ?it/s]"
     ]
    },
    {
     "name": "stdout",
     "output_type": "stream",
     "text": [
      "\n"
     ]
    },
    {
     "name": "stdout",
     "output_type": "stream",
     "text": [
      "\r",
      "0it [00:00, ?it/s]"
     ]
    },
    {
     "name": "stdout",
     "output_type": "stream",
     "text": [
      "\r",
      "Upgrading database; v3 -> v4: : 0it [00:00, ?it/s]"
     ]
    },
    {
     "name": "stdout",
     "output_type": "stream",
     "text": [
      "\r",
      "Upgrading database; v3 -> v4: : 0it [00:00, ?it/s]"
     ]
    },
    {
     "name": "stdout",
     "output_type": "stream",
     "text": [
      "\n"
     ]
    },
    {
     "name": "stdout",
     "output_type": "stream",
     "text": [
      "\r",
      "  0%|          | 0/1 [00:00<?, ?it/s]"
     ]
    },
    {
     "name": "stdout",
     "output_type": "stream",
     "text": [
      "\r",
      "Upgrading database; v4 -> v5:   0%|          | 0/1 [00:00<?, ?it/s]"
     ]
    },
    {
     "name": "stdout",
     "output_type": "stream",
     "text": [
      "\r",
      "Upgrading database; v4 -> v5: 100%|██████████| 1/1 [00:00<00:00, 1134.82it/s]"
     ]
    },
    {
     "name": "stdout",
     "output_type": "stream",
     "text": [
      "\n"
     ]
    },
    {
     "name": "stdout",
     "output_type": "stream",
     "text": [
      "\r",
      "0it [00:00, ?it/s]"
     ]
    },
    {
     "name": "stdout",
     "output_type": "stream",
     "text": [
      "\r",
      "Upgrading database; v5 -> v6: : 0it [00:00, ?it/s]"
     ]
    },
    {
     "name": "stdout",
     "output_type": "stream",
     "text": [
      "\r",
      "Upgrading database; v5 -> v6: : 0it [00:00, ?it/s]"
     ]
    },
    {
     "name": "stdout",
     "output_type": "stream",
     "text": [
      "\n"
     ]
    },
    {
     "name": "stdout",
     "output_type": "stream",
     "text": [
      "\r",
      "  0%|          | 0/1 [00:00<?, ?it/s]"
     ]
    },
    {
     "name": "stdout",
     "output_type": "stream",
     "text": [
      "\r",
      "Upgrading database; v6 -> v7:   0%|          | 0/1 [00:00<?, ?it/s]"
     ]
    },
    {
     "name": "stdout",
     "output_type": "stream",
     "text": [
      "\r",
      "Upgrading database; v6 -> v7: 100%|██████████| 1/1 [00:00<00:00, 682.89it/s]"
     ]
    },
    {
     "name": "stdout",
     "output_type": "stream",
     "text": [
      "\n"
     ]
    },
    {
     "name": "stdout",
     "output_type": "stream",
     "text": [
      "\r",
      "  0%|          | 0/1 [00:00<?, ?it/s]"
     ]
    },
    {
     "name": "stdout",
     "output_type": "stream",
     "text": [
      "\r",
      "Upgrading database; v7 -> v8:   0%|          | 0/1 [00:00<?, ?it/s]"
     ]
    },
    {
     "name": "stdout",
     "output_type": "stream",
     "text": [
      "\r",
      "Upgrading database; v7 -> v8: 100%|██████████| 1/1 [00:00<00:00, 1381.07it/s]"
     ]
    },
    {
     "name": "stdout",
     "output_type": "stream",
     "text": [
      "\n"
     ]
    },
    {
     "name": "stdout",
     "output_type": "stream",
     "text": [
      "\r",
      "  0%|          | 0/1 [00:00<?, ?it/s]"
     ]
    },
    {
     "name": "stdout",
     "output_type": "stream",
     "text": [
      "\r",
      "Upgrading database; v8 -> v9:   0%|          | 0/1 [00:00<?, ?it/s]"
     ]
    },
    {
     "name": "stdout",
     "output_type": "stream",
     "text": [
      "\r",
      "Upgrading database; v8 -> v9: 100%|██████████| 1/1 [00:00<00:00, 771.30it/s]"
     ]
    },
    {
     "name": "stdout",
     "output_type": "stream",
     "text": [
      "\n"
     ]
    }
   ],
   "source": [
    "initialise_database()\n",
    "exp = load_or_create_experiment(experiment_name='tutorial_exp', sample_name=\"no sample\")"
   ]
  },
  {
   "cell_type": "markdown",
   "metadata": {},
   "source": [
    "Here, we define a simple function to benchmark the time it takes to insert n points with either numeric or array data type.\n",
    "We will compare both the time used to call ``add_result`` and the time used for the full measurement."
   ]
  },
  {
   "cell_type": "code",
   "execution_count": 4,
   "metadata": {
    "execution": {
     "iopub.execute_input": "2022-04-07T16:06:16.649103Z",
     "iopub.status.busy": "2022-04-07T16:06:16.648700Z",
     "iopub.status.idle": "2022-04-07T16:06:16.656895Z",
     "shell.execute_reply": "2022-04-07T16:06:16.656427Z"
    }
   },
   "outputs": [],
   "source": [
    "def insert_data(paramtype, npoints, nreps=1):\n",
    "\n",
    "    meas = Measurement(exp=exp)\n",
    "\n",
    "    x1 = ManualParameter('x1')\n",
    "    x2 = ManualParameter('x2')\n",
    "    x3 = ManualParameter('x3')\n",
    "    y1 = ManualParameter('y1')\n",
    "    y2 = ManualParameter('y2')\n",
    "\n",
    "    meas.register_parameter(x1, paramtype=paramtype)\n",
    "    meas.register_parameter(x2, paramtype=paramtype)\n",
    "    meas.register_parameter(x3, paramtype=paramtype)\n",
    "    meas.register_parameter(y1, setpoints=[x1, x2, x3],\n",
    "                            paramtype=paramtype)\n",
    "    meas.register_parameter(y2, setpoints=[x1, x2, x3],\n",
    "                            paramtype=paramtype)\n",
    "    start = time.perf_counter()\n",
    "    with meas.run() as datasaver:\n",
    "        start_adding = time.perf_counter()\n",
    "        for i in range(nreps):\n",
    "            datasaver.add_result((x1, np.random.rand(npoints)),\n",
    "                                 (x2, np.random.rand(npoints)),\n",
    "                                 (x3, np.random.rand(npoints)),\n",
    "                                 (y1, np.random.rand(npoints)),\n",
    "                                 (y2, np.random.rand(npoints)))\n",
    "        stop_adding = time.perf_counter()\n",
    "        run_id = datasaver.run_id\n",
    "    stop = time.perf_counter()\n",
    "    tot_time = stop - start\n",
    "    add_time = stop_adding - start_adding\n",
    "    return tot_time, add_time, run_id"
   ]
  },
  {
   "cell_type": "markdown",
   "metadata": {},
   "source": [
    "## Comparison between numeric/array data and binary blob"
   ]
  },
  {
   "cell_type": "markdown",
   "metadata": {},
   "source": [
    "### Case1: Short experiment time"
   ]
  },
  {
   "cell_type": "code",
   "execution_count": 5,
   "metadata": {
    "execution": {
     "iopub.execute_input": "2022-04-07T16:06:16.659771Z",
     "iopub.status.busy": "2022-04-07T16:06:16.659396Z",
     "iopub.status.idle": "2022-04-07T16:06:17.226054Z",
     "shell.execute_reply": "2022-04-07T16:06:17.225555Z"
    }
   },
   "outputs": [
    {
     "name": "stdout",
     "output_type": "stream",
     "text": [
      "Starting experimental run with id: 1. \n",
      "Starting experimental run with id: 2. \n",
      "Starting experimental run with id: 3. \n",
      "Starting experimental run with id: 4. \n",
      "Starting experimental run with id: 5. \n",
      "Starting experimental run with id: 6. \n",
      "Starting experimental run with id: 7. \n"
     ]
    },
    {
     "name": "stdout",
     "output_type": "stream",
     "text": [
      "Starting experimental run with id: 8. \n"
     ]
    },
    {
     "name": "stdout",
     "output_type": "stream",
     "text": [
      "Starting experimental run with id: 9. \n"
     ]
    },
    {
     "name": "stdout",
     "output_type": "stream",
     "text": [
      "Starting experimental run with id: 10. \n",
      "Starting experimental run with id: 11. \n"
     ]
    },
    {
     "name": "stdout",
     "output_type": "stream",
     "text": [
      "Starting experimental run with id: 12. \n"
     ]
    },
    {
     "name": "stdout",
     "output_type": "stream",
     "text": [
      "Starting experimental run with id: 13. \n"
     ]
    },
    {
     "name": "stdout",
     "output_type": "stream",
     "text": [
      "Starting experimental run with id: 14. \n"
     ]
    }
   ],
   "source": [
    "sizes = [1,500,1000,2000,3000,4000,5000]\n",
    "t_numeric = []\n",
    "t_numeric_add = []\n",
    "t_array = []\n",
    "t_array_add = []\n",
    "for size in sizes:\n",
    "    tn, tna, run_id_n =  insert_data('numeric', size)\n",
    "    t_numeric.append(tn)\n",
    "    t_numeric_add.append(tna)\n",
    "\n",
    "    ta, taa, run_id_a =  insert_data('array', size)\n",
    "    t_array.append(ta)\n",
    "    t_array_add.append(taa)"
   ]
  },
  {
   "cell_type": "code",
   "execution_count": 6,
   "metadata": {
    "execution": {
     "iopub.execute_input": "2022-04-07T16:06:17.228815Z",
     "iopub.status.busy": "2022-04-07T16:06:17.228407Z",
     "iopub.status.idle": "2022-04-07T16:06:17.405085Z",
     "shell.execute_reply": "2022-04-07T16:06:17.404598Z"
    }
   },
   "outputs": [
    {
     "data": {
      "image/png": "[encoded data removed]",
      "text/plain": [
       "<Figure size 432x288 with 1 Axes>"
      ]
     },
     "metadata": {
      "needs_background": "light"
     },
     "output_type": "display_data"
    }
   ],
   "source": [
    "fig, ax = plt.subplots(1,1)\n",
    "ax.plot(sizes, t_numeric, 'o-', label='Inserting row-by-row')\n",
    "ax.plot(sizes, t_numeric_add, 'o-', label='Inserting row-by-row: add_result only')\n",
    "ax.plot(sizes, t_array, 'd-', label='Inserting as binary blob')\n",
    "ax.plot(sizes, t_array_add, 'd-', label='Inserting as binary blob: add_result only')\n",
    "ax.legend()\n",
    "ax.set_xlabel('Array length')\n",
    "ax.set_ylabel('Time (s)')\n",
    "fig.tight_layout()"
   ]
  },
  {
   "cell_type": "markdown",
   "metadata": {},
   "source": [
    "As shown in the latter figure, the time to setup and and close the experiment is approximately 0.4 sec. In case of small array sizes, the difference between inserting values of data as arrays and inserting them row-by-row is relatively unimportant. At larger array sizes, i.e. above 10000 points, the cost of writing data as individual datapoints starts to become important.\n"
   ]
  },
  {
   "cell_type": "markdown",
   "metadata": {},
   "source": [
    "### Case2: Long experiment time "
   ]
  },
  {
   "cell_type": "code",
   "execution_count": 7,
   "metadata": {
    "execution": {
     "iopub.execute_input": "2022-04-07T16:06:17.407961Z",
     "iopub.status.busy": "2022-04-07T16:06:17.407551Z",
     "iopub.status.idle": "2022-04-07T16:06:58.364928Z",
     "shell.execute_reply": "2022-04-07T16:06:58.364421Z"
    }
   },
   "outputs": [
    {
     "name": "stdout",
     "output_type": "stream",
     "text": [
      "Starting experimental run with id: 15. \n",
      "Starting experimental run with id: 16. \n",
      "Starting experimental run with id: 17. \n"
     ]
    },
    {
     "name": "stdout",
     "output_type": "stream",
     "text": [
      "Starting experimental run with id: 18. \n",
      "Starting experimental run with id: 19. \n"
     ]
    },
    {
     "name": "stdout",
     "output_type": "stream",
     "text": [
      "Starting experimental run with id: 20. \n",
      "Starting experimental run with id: 21. \n"
     ]
    },
    {
     "name": "stdout",
     "output_type": "stream",
     "text": [
      "Starting experimental run with id: 22. \n",
      "Starting experimental run with id: 23. \n"
     ]
    },
    {
     "name": "stdout",
     "output_type": "stream",
     "text": [
      "Starting experimental run with id: 24. \n"
     ]
    },
    {
     "name": "stdout",
     "output_type": "stream",
     "text": [
      "Starting experimental run with id: 25. \n"
     ]
    },
    {
     "name": "stdout",
     "output_type": "stream",
     "text": [
      "Starting experimental run with id: 26. \n"
     ]
    },
    {
     "name": "stdout",
     "output_type": "stream",
     "text": [
      "Starting experimental run with id: 27. \n"
     ]
    },
    {
     "name": "stdout",
     "output_type": "stream",
     "text": [
      "Starting experimental run with id: 28. \n"
     ]
    }
   ],
   "source": [
    "sizes = [1,500,1000,2000,3000,4000,5000]\n",
    "nreps = 100\n",
    "t_numeric = []\n",
    "t_numeric_add = []\n",
    "t_numeric_run_ids = []\n",
    "t_array = []\n",
    "t_array_add = []\n",
    "t_array_run_ids = []\n",
    "for size in sizes:\n",
    "    tn, tna, run_id_n =  insert_data('numeric', size, nreps=nreps)\n",
    "    t_numeric.append(tn)\n",
    "    t_numeric_add.append(tna)\n",
    "    t_numeric_run_ids.append(run_id_n)\n",
    "\n",
    "    ta, taa, run_id_a =  insert_data('array', size, nreps=nreps)\n",
    "    t_array.append(ta)\n",
    "    t_array_add.append(taa)\n",
    "    t_array_run_ids.append(run_id_a)"
   ]
  },
  {
   "cell_type": "code",
   "execution_count": 8,
   "metadata": {
    "execution": {
     "iopub.execute_input": "2022-04-07T16:06:58.367859Z",
     "iopub.status.busy": "2022-04-07T16:06:58.367509Z",
     "iopub.status.idle": "2022-04-07T16:06:58.527583Z",
     "shell.execute_reply": "2022-04-07T16:06:58.527059Z"
    },
    "scrolled": true
   },
   "outputs": [
    {
     "data": {
      "image/png": "[encoded data removed]",
      "text/plain": [
       "<Figure size 432x288 with 1 Axes>"
      ]
     },
     "metadata": {
      "needs_background": "light"
     },
     "output_type": "display_data"
    }
   ],
   "source": [
    "fig, ax = plt.subplots(1,1)\n",
    "ax.plot(sizes, t_numeric, 'o-', label='Inserting row-by-row')\n",
    "ax.plot(sizes, t_numeric_add, 'o-', label='Inserting row-by-row: add_result only')\n",
    "ax.plot(sizes, t_array, 'd-', label='Inserting as binary blob')\n",
    "ax.plot(sizes, t_array_add, 'd-', label='Inserting as binary blob: add_result only')\n",
    "ax.legend()\n",
    "ax.set_xlabel('Array length')\n",
    "ax.set_ylabel('Time (s)')\n",
    "fig.tight_layout()"
   ]
  },
  {
   "cell_type": "markdown",
   "metadata": {},
   "source": [
    "However, as we increase the length of the experiment, as seen here by repeating the insertion 100 times, we see a big difference between inserting values of the data row-by-row and inserting it as a binary blob."
   ]
  },
  {
   "cell_type": "markdown",
   "metadata": {},
   "source": [
    "## Loading the data "
   ]
  },
  {
   "cell_type": "code",
   "execution_count": 9,
   "metadata": {
    "execution": {
     "iopub.execute_input": "2022-04-07T16:06:58.530288Z",
     "iopub.status.busy": "2022-04-07T16:06:58.529860Z",
     "iopub.status.idle": "2022-04-07T16:06:58.533862Z",
     "shell.execute_reply": "2022-04-07T16:06:58.533419Z"
    }
   },
   "outputs": [],
   "source": [
    "from qcodes.dataset.data_set import load_by_id"
   ]
  },
  {
   "cell_type": "markdown",
   "metadata": {},
   "source": [
    "As usual you can load the data by using the ``load_by_id`` function but you will notice that the different storage methods\n",
    "are reflected in shape of the data as it is retrieved. "
   ]
  },
  {
   "cell_type": "code",
   "execution_count": 10,
   "metadata": {
    "execution": {
     "iopub.execute_input": "2022-04-07T16:06:58.536160Z",
     "iopub.status.busy": "2022-04-07T16:06:58.535899Z",
     "iopub.status.idle": "2022-04-07T16:06:58.538674Z",
     "shell.execute_reply": "2022-04-07T16:06:58.538170Z"
    }
   },
   "outputs": [],
   "source": [
    "run_id_n = t_numeric_run_ids[0]\n",
    "run_id_a = t_array_run_ids[0]"
   ]
  },
  {
   "cell_type": "code",
   "execution_count": 11,
   "metadata": {
    "execution": {
     "iopub.execute_input": "2022-04-07T16:06:58.540988Z",
     "iopub.status.busy": "2022-04-07T16:06:58.540618Z",
     "iopub.status.idle": "2022-04-07T16:06:58.581042Z",
     "shell.execute_reply": "2022-04-07T16:06:58.580552Z"
    },
    "scrolled": true
   },
   "outputs": [
    {
     "data": {
      "text/plain": [
       "{'x1': {'x1': array([0.95932603, 0.95932603, 0.23123809, 0.23123809, 0.94521902,\n",
       "         0.94521902, 0.66575564, 0.66575564, 0.3724909 , 0.3724909 ,\n",
       "         0.30812864, 0.30812864, 0.42942892, 0.42942892, 0.78817171,\n",
       "         0.78817171, 0.97257698, 0.97257698, 0.81009928, 0.81009928,\n",
       "         0.64257446, 0.64257446, 0.91250486, 0.91250486, 0.0249535 ,\n",
       "         0.0249535 , 0.93926944, 0.93926944, 0.48884191, 0.48884191,\n",
       "         0.86119339, 0.86119339, 0.46144032, 0.46144032, 0.98578935,\n",
       "         0.98578935, 0.02618339, 0.02618339, 0.51847024, 0.51847024,\n",
       "         0.09169775, 0.09169775, 0.25926515, 0.25926515, 0.76141414,\n",
       "         0.76141414, 0.38197256, 0.38197256, 0.96044444, 0.96044444,\n",
       "         0.77045269, 0.77045269, 0.79385547, 0.79385547, 0.35460406,\n",
       "         0.35460406, 0.21473029, 0.21473029, 0.61894363, 0.61894363,\n",
       "         0.43953867, 0.43953867, 0.85252639, 0.85252639, 0.54130384,\n",
       "         0.54130384, 0.15985197, 0.15985197, 0.27493718, 0.27493718,\n",
       "         0.08799697, 0.08799697, 0.4470857 , 0.4470857 , 0.64019863,\n",
       "         0.64019863, 0.10485753, 0.10485753, 0.45214601, 0.45214601,\n",
       "         0.46826297, 0.46826297, 0.46693503, 0.46693503, 0.9447756 ,\n",
       "         0.9447756 , 0.04287015, 0.04287015, 0.69025285, 0.69025285,\n",
       "         0.13715091, 0.13715091, 0.2650077 , 0.2650077 , 0.42651579,\n",
       "         0.42651579, 0.76991804, 0.76991804, 0.04388249, 0.04388249,\n",
       "         0.80845925, 0.80845925, 0.46085158, 0.46085158, 0.73165811,\n",
       "         0.73165811, 0.09095818, 0.09095818, 0.23856375, 0.23856375,\n",
       "         0.96551148, 0.96551148, 0.90117299, 0.90117299, 0.39049105,\n",
       "         0.39049105, 0.31538484, 0.31538484, 0.46061482, 0.46061482,\n",
       "         0.42839701, 0.42839701, 0.80012395, 0.80012395, 0.65740621,\n",
       "         0.65740621, 0.76638235, 0.76638235, 0.95605845, 0.95605845,\n",
       "         0.20235299, 0.20235299, 0.90499284, 0.90499284, 0.49710551,\n",
       "         0.49710551, 0.09529247, 0.09529247, 0.08380334, 0.08380334,\n",
       "         0.12112185, 0.12112185, 0.643717  , 0.643717  , 0.66007768,\n",
       "         0.66007768, 0.08896546, 0.08896546, 0.20741294, 0.20741294,\n",
       "         0.64354639, 0.64354639, 0.93577432, 0.93577432, 0.57507136,\n",
       "         0.57507136, 0.63310496, 0.63310496, 0.71618086, 0.71618086,\n",
       "         0.90435217, 0.90435217, 0.79855279, 0.79855279, 0.71668384,\n",
       "         0.71668384, 0.03090686, 0.03090686, 0.39226153, 0.39226153,\n",
       "         0.92629236, 0.92629236, 0.8646225 , 0.8646225 , 0.89965659,\n",
       "         0.89965659, 0.8941112 , 0.8941112 , 0.40123856, 0.40123856,\n",
       "         0.99292031, 0.99292031, 0.30635246, 0.30635246, 0.42707333,\n",
       "         0.42707333, 0.73089119, 0.73089119, 0.64318436, 0.64318436,\n",
       "         0.85360222, 0.85360222, 0.07720357, 0.07720357, 0.25092979,\n",
       "         0.25092979, 0.27982027, 0.27982027, 0.13603379, 0.13603379])}}"
      ]
     },
     "execution_count": 11,
     "metadata": {},
     "output_type": "execute_result"
    }
   ],
   "source": [
    "ds = load_by_id(run_id_n)\n",
    "ds.get_parameter_data('x1')"
   ]
  },
  {
   "cell_type": "markdown",
   "metadata": {},
   "source": [
    "And a dataset stored as binary arrays"
   ]
  },
  {
   "cell_type": "code",
   "execution_count": 12,
   "metadata": {
    "execution": {
     "iopub.execute_input": "2022-04-07T16:06:58.583789Z",
     "iopub.status.busy": "2022-04-07T16:06:58.583384Z",
     "iopub.status.idle": "2022-04-07T16:06:58.628120Z",
     "shell.execute_reply": "2022-04-07T16:06:58.627621Z"
    },
    "scrolled": true
   },
   "outputs": [
    {
     "data": {
      "text/plain": [
       "{'x1': {'x1': array([[0.87350871],\n",
       "         [0.87350871],\n",
       "         [0.88990573],\n",
       "         [0.88990573],\n",
       "         [0.91184798],\n",
       "         [0.91184798],\n",
       "         [0.68719526],\n",
       "         [0.68719526],\n",
       "         [0.93316252],\n",
       "         [0.93316252],\n",
       "         [0.11544765],\n",
       "         [0.11544765],\n",
       "         [0.20366933],\n",
       "         [0.20366933],\n",
       "         [0.42267845],\n",
       "         [0.42267845],\n",
       "         [0.3228994 ],\n",
       "         [0.3228994 ],\n",
       "         [0.8527483 ],\n",
       "         [0.8527483 ],\n",
       "         [0.59774178],\n",
       "         [0.59774178],\n",
       "         [0.07846981],\n",
       "         [0.07846981],\n",
       "         [0.66383062],\n",
       "         [0.66383062],\n",
       "         [0.38474733],\n",
       "         [0.38474733],\n",
       "         [0.42216459],\n",
       "         [0.42216459],\n",
       "         [0.7288709 ],\n",
       "         [0.7288709 ],\n",
       "         [0.3893455 ],\n",
       "         [0.3893455 ],\n",
       "         [0.19724479],\n",
       "         [0.19724479],\n",
       "         [0.4409545 ],\n",
       "         [0.4409545 ],\n",
       "         [0.15000729],\n",
       "         [0.15000729],\n",
       "         [0.70183961],\n",
       "         [0.70183961],\n",
       "         [0.69054499],\n",
       "         [0.69054499],\n",
       "         [0.26444843],\n",
       "         [0.26444843],\n",
       "         [0.12556255],\n",
       "         [0.12556255],\n",
       "         [0.46094278],\n",
       "         [0.46094278],\n",
       "         [0.89138002],\n",
       "         [0.89138002],\n",
       "         [0.62043126],\n",
       "         [0.62043126],\n",
       "         [0.49907855],\n",
       "         [0.49907855],\n",
       "         [0.76891945],\n",
       "         [0.76891945],\n",
       "         [0.9385837 ],\n",
       "         [0.9385837 ],\n",
       "         [0.84959134],\n",
       "         [0.84959134],\n",
       "         [0.61483757],\n",
       "         [0.61483757],\n",
       "         [0.83784807],\n",
       "         [0.83784807],\n",
       "         [0.70276147],\n",
       "         [0.70276147],\n",
       "         [0.34864179],\n",
       "         [0.34864179],\n",
       "         [0.58063833],\n",
       "         [0.58063833],\n",
       "         [0.71581752],\n",
       "         [0.71581752],\n",
       "         [0.28302309],\n",
       "         [0.28302309],\n",
       "         [0.4717456 ],\n",
       "         [0.4717456 ],\n",
       "         [0.37639568],\n",
       "         [0.37639568],\n",
       "         [0.87601348],\n",
       "         [0.87601348],\n",
       "         [0.78628245],\n",
       "         [0.78628245],\n",
       "         [0.22023347],\n",
       "         [0.22023347],\n",
       "         [0.94945246],\n",
       "         [0.94945246],\n",
       "         [0.29784665],\n",
       "         [0.29784665],\n",
       "         [0.83278663],\n",
       "         [0.83278663],\n",
       "         [0.39188439],\n",
       "         [0.39188439],\n",
       "         [0.46116436],\n",
       "         [0.46116436],\n",
       "         [0.56141237],\n",
       "         [0.56141237],\n",
       "         [0.66473495],\n",
       "         [0.66473495],\n",
       "         [0.62418727],\n",
       "         [0.62418727],\n",
       "         [0.83079469],\n",
       "         [0.83079469],\n",
       "         [0.79835897],\n",
       "         [0.79835897],\n",
       "         [0.23594001],\n",
       "         [0.23594001],\n",
       "         [0.59184955],\n",
       "         [0.59184955],\n",
       "         [0.20180797],\n",
       "         [0.20180797],\n",
       "         [0.80146862],\n",
       "         [0.80146862],\n",
       "         [0.62485815],\n",
       "         [0.62485815],\n",
       "         [0.58914225],\n",
       "         [0.58914225],\n",
       "         [0.78753792],\n",
       "         [0.78753792],\n",
       "         [0.26444188],\n",
       "         [0.26444188],\n",
       "         [0.91205868],\n",
       "         [0.91205868],\n",
       "         [0.94606944],\n",
       "         [0.94606944],\n",
       "         [0.32697886],\n",
       "         [0.32697886],\n",
       "         [0.73403575],\n",
       "         [0.73403575],\n",
       "         [0.86829279],\n",
       "         [0.86829279],\n",
       "         [0.21968397],\n",
       "         [0.21968397],\n",
       "         [0.11786202],\n",
       "         [0.11786202],\n",
       "         [0.56254578],\n",
       "         [0.56254578],\n",
       "         [0.19294507],\n",
       "         [0.19294507],\n",
       "         [0.34663904],\n",
       "         [0.34663904],\n",
       "         [0.02254151],\n",
       "         [0.02254151],\n",
       "         [0.9209833 ],\n",
       "         [0.9209833 ],\n",
       "         [0.12204412],\n",
       "         [0.12204412],\n",
       "         [0.14183392],\n",
       "         [0.14183392],\n",
       "         [0.86655492],\n",
       "         [0.86655492],\n",
       "         [0.09656827],\n",
       "         [0.09656827],\n",
       "         [0.8808956 ],\n",
       "         [0.8808956 ],\n",
       "         [0.29378556],\n",
       "         [0.29378556],\n",
       "         [0.47316785],\n",
       "         [0.47316785],\n",
       "         [0.06728735],\n",
       "         [0.06728735],\n",
       "         [0.66961781],\n",
       "         [0.66961781],\n",
       "         [0.25756996],\n",
       "         [0.25756996],\n",
       "         [0.20103687],\n",
       "         [0.20103687],\n",
       "         [0.38596972],\n",
       "         [0.38596972],\n",
       "         [0.78541393],\n",
       "         [0.78541393],\n",
       "         [0.70172298],\n",
       "         [0.70172298],\n",
       "         [0.22336117],\n",
       "         [0.22336117],\n",
       "         [0.25737102],\n",
       "         [0.25737102],\n",
       "         [0.91186551],\n",
       "         [0.91186551],\n",
       "         [0.72483257],\n",
       "         [0.72483257],\n",
       "         [0.2241041 ],\n",
       "         [0.2241041 ],\n",
       "         [0.24181088],\n",
       "         [0.24181088],\n",
       "         [0.00427749],\n",
       "         [0.00427749],\n",
       "         [0.62593137],\n",
       "         [0.62593137],\n",
       "         [0.83768309],\n",
       "         [0.83768309],\n",
       "         [0.9719642 ],\n",
       "         [0.9719642 ],\n",
       "         [0.93164198],\n",
       "         [0.93164198],\n",
       "         [0.77734314],\n",
       "         [0.77734314],\n",
       "         [0.21475118],\n",
       "         [0.21475118]])}}"
      ]
     },
     "execution_count": 12,
     "metadata": {},
     "output_type": "execute_result"
    }
   ],
   "source": [
    "ds = load_by_id(run_id_a)\n",
    "ds.get_parameter_data('x1')"
   ]
  },
  {
   "cell_type": "code",
   "execution_count": null,
   "metadata": {},
   "outputs": [],
   "source": []
  }
 ],
 "metadata": {
  "kernelspec": {
   "display_name": "Python 3",
   "language": "python",
   "name": "python3"
  },
  "language_info": {
   "codemirror_mode": {
    "name": "ipython",
    "version": 3
   },
   "file_extension": ".py",
   "mimetype": "text/x-python",
   "name": "python",
   "nbconvert_exporter": "python",
   "pygments_lexer": "ipython3",
   "version": "3.9.12"
  },
  "nbsphinx": {
   "timeout": 600
  },
  "toc": {
   "base_numbering": 1,
   "nav_menu": {},
   "number_sections": true,
   "sideBar": true,
   "skip_h1_title": false,
   "title_cell": "Table of Contents",
   "title_sidebar": "Contents",
   "toc_cell": false,
   "toc_position": {},
   "toc_section_display": true,
   "toc_window_display": false
  },
  "varInspector": {
   "cols": {
    "lenName": 16,
    "lenType": 16,
    "lenVar": 40
   },
   "kernels_config": {
    "python": {
     "delete_cmd_postfix": "",
     "delete_cmd_prefix": "del ",
     "library": "var_list.py",
     "varRefreshCmd": "print(var_dic_list())"
    },
    "r": {
     "delete_cmd_postfix": ") ",
     "delete_cmd_prefix": "rm(",
     "library": "var_list.r",
     "varRefreshCmd": "cat(var_dic_list()) "
    }
   },
   "types_to_exclude": [
    "module",
    "function",
    "builtin_function_or_method",
    "instance",
    "_Feature"
   ],
   "window_display": false
  }
 },
 "nbformat": 4,
 "nbformat_minor": 4
}
