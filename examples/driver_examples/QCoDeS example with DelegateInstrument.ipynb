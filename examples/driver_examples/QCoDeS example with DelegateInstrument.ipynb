{
 "cells": [
  {
   "cell_type": "markdown",
   "id": "plain-primary",
   "metadata": {},
   "source": [
    "# Qcodes example with DelegateInstrument driver\n",
    "\n",
    "This notebooks explains how to use the `DelegateInstrument` driver.\n",
    "\n",
    "## About\n",
    "The goal of the `DelegateInstrument` driver is to make it easier to combine different parameters together into a new \"virtual\" instrument. Each parameter on a `DelegateInstrument` can point to one or more parameters on other instruments in the station.\n",
    "\n",
    "## Usage\n",
    "The way it's used is mainly by specifying an entry in the station YAML. For instance, let's say you want to use a magnetic field coil. The driver has a method set_field(value, block), that by default is set to block=True, which means the field is ramped in a way that blocks further execution until the desired value is reached. However, let's say you are creating a measurement in which you want the parameter to be set, and while the value is ramping, you want to measure other parameters. This can be done by using `DelegateInstrument` and specifying a custom `setter` for the parameter that gets and sets the magnetic field.\n",
    "\n",
    "By default, each parameter is represented by a `DelegateParameter`. The `DelegateInstrument` also supports passing multiple source parameters to a given parameter. In order to do this, simply specify multiple parameters in the dictionary values  under the `parameters` key.\n",
    "\n",
    "It can also add instrument channels, specified under a separate key `channels`, shown in the second half of the notebook."
   ]
  },
  {
   "cell_type": "code",
   "execution_count": 1,
   "id": "sapphire-quebec",
   "metadata": {
    "execution": {
     "iopub.execute_input": "2022-04-07T16:11:47.463839Z",
     "iopub.status.busy": "2022-04-07T16:11:47.463366Z",
     "iopub.status.idle": "2022-04-07T16:11:47.471842Z",
     "shell.execute_reply": "2022-04-07T16:11:47.471330Z"
    }
   },
   "outputs": [
    {
     "name": "stdout",
     "output_type": "stream",
     "text": [
      "Writing example.yaml\n"
     ]
    }
   ],
   "source": [
    "%%writefile example.yaml\n",
    "\n",
    "instruments:\n",
    "  field_X:\n",
    "    type: qcodes.tests.instrument_mocks.MockField\n",
    "\n",
    "  field:\n",
    "    type: qcodes.instrument.delegate.DelegateInstrument\n",
    "    init:\n",
    "      parameters:\n",
    "        X:\n",
    "          - field_X.field\n",
    "        ramp_rate:\n",
    "          - field_X.ramp_rate\n",
    "        combined:\n",
    "          - field_X.field\n",
    "          - field_X.ramp_rate\n",
    "      set_initial_values_on_load: true\n",
    "      initial_values:\n",
    "        ramp_rate: 1.0\n",
    "      setters:\n",
    "        X:\n",
    "          method: field_X.set_field\n",
    "          block: false"
   ]
  },
  {
   "cell_type": "code",
   "execution_count": 2,
   "id": "younger-newspaper",
   "metadata": {
    "execution": {
     "iopub.execute_input": "2022-04-07T16:11:47.474177Z",
     "iopub.status.busy": "2022-04-07T16:11:47.474027Z",
     "iopub.status.idle": "2022-04-07T16:11:47.695498Z",
     "shell.execute_reply": "2022-04-07T16:11:47.694998Z"
    }
   },
   "outputs": [],
   "source": [
    "import qcodes as qc"
   ]
  },
  {
   "cell_type": "code",
   "execution_count": 3,
   "id": "muslim-briefs",
   "metadata": {
    "execution": {
     "iopub.execute_input": "2022-04-07T16:11:47.698943Z",
     "iopub.status.busy": "2022-04-07T16:11:47.698545Z",
     "iopub.status.idle": "2022-04-07T16:11:47.713450Z",
     "shell.execute_reply": "2022-04-07T16:11:47.713008Z"
    }
   },
   "outputs": [],
   "source": [
    "station = qc.Station(config_file=\"example.yaml\")"
   ]
  },
  {
   "cell_type": "code",
   "execution_count": 4,
   "id": "greatest-antenna",
   "metadata": {
    "execution": {
     "iopub.execute_input": "2022-04-07T16:11:47.716265Z",
     "iopub.status.busy": "2022-04-07T16:11:47.716021Z",
     "iopub.status.idle": "2022-04-07T16:11:47.741035Z",
     "shell.execute_reply": "2022-04-07T16:11:47.740581Z"
    }
   },
   "outputs": [],
   "source": [
    "field_X = station.load_field_X()\n",
    "field = station.load_field(station=station)"
   ]
  },
  {
   "cell_type": "code",
   "execution_count": 5,
   "id": "every-playing",
   "metadata": {
    "execution": {
     "iopub.execute_input": "2022-04-07T16:11:47.743375Z",
     "iopub.status.busy": "2022-04-07T16:11:47.743048Z",
     "iopub.status.idle": "2022-04-07T16:11:47.752918Z",
     "shell.execute_reply": "2022-04-07T16:11:47.752466Z"
    }
   },
   "outputs": [
    {
     "data": {
      "text/plain": [
       "0.0"
      ]
     },
     "execution_count": 5,
     "metadata": {},
     "output_type": "execute_result"
    }
   ],
   "source": [
    "field.X()"
   ]
  },
  {
   "cell_type": "code",
   "execution_count": 6,
   "id": "undefined-worst",
   "metadata": {
    "execution": {
     "iopub.execute_input": "2022-04-07T16:11:47.755359Z",
     "iopub.status.busy": "2022-04-07T16:11:47.754918Z",
     "iopub.status.idle": "2022-04-07T16:11:47.758620Z",
     "shell.execute_reply": "2022-04-07T16:11:47.758171Z"
    }
   },
   "outputs": [],
   "source": [
    "field.X(1.)"
   ]
  },
  {
   "cell_type": "code",
   "execution_count": 7,
   "id": "recreational-suggestion",
   "metadata": {
    "execution": {
     "iopub.execute_input": "2022-04-07T16:11:47.760813Z",
     "iopub.status.busy": "2022-04-07T16:11:47.760567Z",
     "iopub.status.idle": "2022-04-07T16:11:47.764267Z",
     "shell.execute_reply": "2022-04-07T16:11:47.763795Z"
    }
   },
   "outputs": [
    {
     "data": {
      "text/plain": [
       "8.88665517171224e-05"
      ]
     },
     "execution_count": 7,
     "metadata": {},
     "output_type": "execute_result"
    }
   ],
   "source": [
    "field.X()"
   ]
  },
  {
   "cell_type": "code",
   "execution_count": 8,
   "id": "adopted-exchange",
   "metadata": {
    "execution": {
     "iopub.execute_input": "2022-04-07T16:11:47.766921Z",
     "iopub.status.busy": "2022-04-07T16:11:47.766661Z",
     "iopub.status.idle": "2022-04-07T16:11:47.770247Z",
     "shell.execute_reply": "2022-04-07T16:11:47.769767Z"
    }
   },
   "outputs": [
    {
     "data": {
      "text/plain": [
       "0.00019086599349975585"
      ]
     },
     "execution_count": 8,
     "metadata": {},
     "output_type": "execute_result"
    }
   ],
   "source": [
    "field.X()"
   ]
  },
  {
   "cell_type": "code",
   "execution_count": 9,
   "id": "bound-broadcasting",
   "metadata": {
    "execution": {
     "iopub.execute_input": "2022-04-07T16:11:47.772935Z",
     "iopub.status.busy": "2022-04-07T16:11:47.772545Z",
     "iopub.status.idle": "2022-04-07T16:11:47.776145Z",
     "shell.execute_reply": "2022-04-07T16:11:47.775672Z"
    }
   },
   "outputs": [
    {
     "data": {
      "text/plain": [
       "0.00029093424479166666"
      ]
     },
     "execution_count": 9,
     "metadata": {},
     "output_type": "execute_result"
    }
   ],
   "source": [
    "field.X()"
   ]
  },
  {
   "cell_type": "code",
   "execution_count": 10,
   "id": "casual-ghost",
   "metadata": {
    "execution": {
     "iopub.execute_input": "2022-04-07T16:11:47.778989Z",
     "iopub.status.busy": "2022-04-07T16:11:47.778589Z",
     "iopub.status.idle": "2022-04-07T16:11:47.782109Z",
     "shell.execute_reply": "2022-04-07T16:11:47.781649Z"
    }
   },
   "outputs": [
    {
     "data": {
      "text/plain": [
       "0.0003916780153910319"
      ]
     },
     "execution_count": 10,
     "metadata": {},
     "output_type": "execute_result"
    }
   ],
   "source": [
    "field.X()"
   ]
  },
  {
   "cell_type": "markdown",
   "id": "alike-process",
   "metadata": {},
   "source": [
    "As you can see, the field is now ramped in the background with the specified ramp rate. Now, let's try to create a measurement that uses this ability, and ramps the field in the background while measuring:"
   ]
  },
  {
   "cell_type": "code",
   "execution_count": 11,
   "id": "sustained-tiger",
   "metadata": {
    "execution": {
     "iopub.execute_input": "2022-04-07T16:11:47.784807Z",
     "iopub.status.busy": "2022-04-07T16:11:47.784550Z",
     "iopub.status.idle": "2022-04-07T16:11:47.789547Z",
     "shell.execute_reply": "2022-04-07T16:11:47.789117Z"
    }
   },
   "outputs": [],
   "source": [
    "field.ramp_rate(10.)\n",
    "field_X.field(0.0)"
   ]
  },
  {
   "cell_type": "code",
   "execution_count": 12,
   "id": "pharmaceutical-partition",
   "metadata": {
    "execution": {
     "iopub.execute_input": "2022-04-07T16:11:47.791802Z",
     "iopub.status.busy": "2022-04-07T16:11:47.791558Z",
     "iopub.status.idle": "2022-04-07T16:11:47.795023Z",
     "shell.execute_reply": "2022-04-07T16:11:47.794558Z"
    }
   },
   "outputs": [
    {
     "data": {
      "text/plain": [
       "0.0"
      ]
     },
     "execution_count": 12,
     "metadata": {},
     "output_type": "execute_result"
    }
   ],
   "source": [
    "field.X()"
   ]
  },
  {
   "cell_type": "code",
   "execution_count": 13,
   "id": "happy-ordinance",
   "metadata": {
    "execution": {
     "iopub.execute_input": "2022-04-07T16:11:47.797525Z",
     "iopub.status.busy": "2022-04-07T16:11:47.797383Z",
     "iopub.status.idle": "2022-04-07T16:11:49.017586Z",
     "shell.execute_reply": "2022-04-07T16:11:49.017083Z"
    }
   },
   "outputs": [
    {
     "name": "stdout",
     "output_type": "stream",
     "text": [
      "Starting experimental run with id: 60. \n"
     ]
    }
   ],
   "source": [
    "import time\n",
    "meas = qc.Measurement(station=station)\n",
    "meas.register_parameter(field.X)\n",
    "\n",
    "with meas.run() as datasaver:\n",
    "    for B in [0.1, 0.0]:\n",
    "        field.X(B)\n",
    "        while field.X() != B:\n",
    "            datasaver.add_result((field.X, field.X()))\n",
    "            time.sleep(0.01)\n",
    "    datasaver.flush_data_to_database()"
   ]
  },
  {
   "cell_type": "code",
   "execution_count": 14,
   "id": "short-medium",
   "metadata": {
    "execution": {
     "iopub.execute_input": "2022-04-07T16:11:49.020764Z",
     "iopub.status.busy": "2022-04-07T16:11:49.020306Z",
     "iopub.status.idle": "2022-04-07T16:11:49.932438Z",
     "shell.execute_reply": "2022-04-07T16:11:49.931959Z"
    }
   },
   "outputs": [
    {
     "data": {
      "text/plain": [
       "<AxesSubplot:>"
      ]
     },
     "execution_count": 14,
     "metadata": {},
     "output_type": "execute_result"
    },
    {
     "data": {
      "image/png": "[encoded data removed]",
      "text/plain": [
       "<Figure size 432x288 with 1 Axes>"
      ]
     },
     "metadata": {
      "needs_background": "light"
     },
     "output_type": "display_data"
    }
   ],
   "source": [
    "datasaver.dataset.to_pandas_dataframe().plot()"
   ]
  },
  {
   "cell_type": "markdown",
   "id": "incomplete-vietnamese",
   "metadata": {},
   "source": [
    "When specifying multiple source parameters on a given parameter, the grouped parameter will automatically return a `namedtuple` that returns both values."
   ]
  },
  {
   "cell_type": "code",
   "execution_count": 15,
   "id": "dangerous-finder",
   "metadata": {
    "execution": {
     "iopub.execute_input": "2022-04-07T16:11:49.935617Z",
     "iopub.status.busy": "2022-04-07T16:11:49.935227Z",
     "iopub.status.idle": "2022-04-07T16:11:49.940840Z",
     "shell.execute_reply": "2022-04-07T16:11:49.940403Z"
    }
   },
   "outputs": [
    {
     "data": {
      "text/plain": [
       "combined(field=0.0, ramp_rate=10.0)"
      ]
     },
     "execution_count": 15,
     "metadata": {},
     "output_type": "execute_result"
    }
   ],
   "source": [
    "field.combined()"
   ]
  },
  {
   "cell_type": "markdown",
   "id": "consolidated-cooper",
   "metadata": {},
   "source": [
    "We can now also create a custom parameter that does a simple calculation based on the current parameters."
   ]
  },
  {
   "cell_type": "code",
   "execution_count": 16,
   "id": "designed-bloom",
   "metadata": {
    "execution": {
     "iopub.execute_input": "2022-04-07T16:11:49.943182Z",
     "iopub.status.busy": "2022-04-07T16:11:49.943031Z",
     "iopub.status.idle": "2022-04-07T16:11:49.947203Z",
     "shell.execute_reply": "2022-04-07T16:11:49.946785Z"
    }
   },
   "outputs": [],
   "source": [
    "import numpy as np\n",
    "\n",
    "def calculate_ramp_time(X, ramp_rate):\n",
    "    \"\"\"Calculate ramp time in seconds\"\"\"\n",
    "    dfield = np.abs(field.target_field - X)\n",
    "    return 60. * dfield/ramp_rate"
   ]
  },
  {
   "cell_type": "code",
   "execution_count": 17,
   "id": "disabled-logic",
   "metadata": {
    "execution": {
     "iopub.execute_input": "2022-04-07T16:11:49.949561Z",
     "iopub.status.busy": "2022-04-07T16:11:49.949170Z",
     "iopub.status.idle": "2022-04-07T16:11:49.952433Z",
     "shell.execute_reply": "2022-04-07T16:11:49.951940Z"
    },
    "scrolled": true
   },
   "outputs": [],
   "source": [
    "field._create_and_add_parameter(\n",
    "    group_name=\"ramp_time\",\n",
    "    station=station,\n",
    "    paths=[\"field_X.field\", \"field_X.ramp_rate\"],\n",
    "    formatter=calculate_ramp_time\n",
    ")"
   ]
  },
  {
   "cell_type": "code",
   "execution_count": 18,
   "id": "adverse-february",
   "metadata": {
    "execution": {
     "iopub.execute_input": "2022-04-07T16:11:49.954627Z",
     "iopub.status.busy": "2022-04-07T16:11:49.954374Z",
     "iopub.status.idle": "2022-04-07T16:11:49.958382Z",
     "shell.execute_reply": "2022-04-07T16:11:49.957897Z"
    }
   },
   "outputs": [
    {
     "data": {
      "text/plain": [
       "6.0"
      ]
     },
     "execution_count": 18,
     "metadata": {},
     "output_type": "execute_result"
    }
   ],
   "source": [
    "field.ramp_rate(1.0)\n",
    "field.target_field = 0.1\n",
    "field.ramp_time()"
   ]
  },
  {
   "cell_type": "code",
   "execution_count": 19,
   "id": "statutory-xerox",
   "metadata": {
    "execution": {
     "iopub.execute_input": "2022-04-07T16:11:49.961058Z",
     "iopub.status.busy": "2022-04-07T16:11:49.960804Z",
     "iopub.status.idle": "2022-04-07T16:11:49.964602Z",
     "shell.execute_reply": "2022-04-07T16:11:49.964158Z"
    }
   },
   "outputs": [],
   "source": [
    "field.X(0.1)"
   ]
  },
  {
   "cell_type": "code",
   "execution_count": 20,
   "id": "varying-auditor",
   "metadata": {
    "execution": {
     "iopub.execute_input": "2022-04-07T16:11:49.966835Z",
     "iopub.status.busy": "2022-04-07T16:11:49.966587Z",
     "iopub.status.idle": "2022-04-07T16:11:49.970250Z",
     "shell.execute_reply": "2022-04-07T16:11:49.969774Z"
    }
   },
   "outputs": [
    {
     "data": {
      "text/plain": [
       "5.99430251121521"
      ]
     },
     "execution_count": 20,
     "metadata": {},
     "output_type": "execute_result"
    }
   ],
   "source": [
    "field.ramp_time()"
   ]
  },
  {
   "cell_type": "code",
   "execution_count": 21,
   "id": "chubby-nickel",
   "metadata": {
    "execution": {
     "iopub.execute_input": "2022-04-07T16:11:49.972886Z",
     "iopub.status.busy": "2022-04-07T16:11:49.972634Z",
     "iopub.status.idle": "2022-04-07T16:11:50.977917Z",
     "shell.execute_reply": "2022-04-07T16:11:50.977395Z"
    }
   },
   "outputs": [
    {
     "data": {
      "text/plain": [
       "4.986908435821533"
      ]
     },
     "execution_count": 21,
     "metadata": {},
     "output_type": "execute_result"
    }
   ],
   "source": [
    "import time\n",
    "time.sleep(1.)\n",
    "field.ramp_time()"
   ]
  },
  {
   "cell_type": "code",
   "execution_count": 22,
   "id": "italian-liberty",
   "metadata": {
    "execution": {
     "iopub.execute_input": "2022-04-07T16:11:50.980459Z",
     "iopub.status.busy": "2022-04-07T16:11:50.980103Z",
     "iopub.status.idle": "2022-04-07T16:11:51.985510Z",
     "shell.execute_reply": "2022-04-07T16:11:51.985070Z"
    }
   },
   "outputs": [
    {
     "data": {
      "text/plain": [
       "3.9792332649230957"
      ]
     },
     "execution_count": 22,
     "metadata": {},
     "output_type": "execute_result"
    }
   ],
   "source": [
    "import time\n",
    "time.sleep(1.)\n",
    "field.ramp_time()"
   ]
  },
  {
   "cell_type": "markdown",
   "id": "704d5fba",
   "metadata": {},
   "source": [
    "# Devices with channels"
   ]
  },
  {
   "cell_type": "markdown",
   "id": "64d70e1f",
   "metadata": {},
   "source": [
    "The YAML file below specifies the instruments with the channels/parameters we wish to group into a new instrument, here called \"device\". The first example simply adds the channel 'as is' using self.add_submodule, while the readout parameter is added as a DelegateParameter."
   ]
  },
  {
   "cell_type": "code",
   "execution_count": 23,
   "id": "f5524c86",
   "metadata": {
    "execution": {
     "iopub.execute_input": "2022-04-07T16:11:51.988364Z",
     "iopub.status.busy": "2022-04-07T16:11:51.987992Z",
     "iopub.status.idle": "2022-04-07T16:11:51.991957Z",
     "shell.execute_reply": "2022-04-07T16:11:51.991451Z"
    }
   },
   "outputs": [
    {
     "name": "stdout",
     "output_type": "stream",
     "text": [
      "Overwriting example.yaml\n"
     ]
    }
   ],
   "source": [
    "%%writefile example.yaml\n",
    "\n",
    "instruments:\n",
    "  lockin:\n",
    "    type: qcodes.tests.instrument_mocks.MockLockin\n",
    "\n",
    "  dac:\n",
    "    type: qcodes.tests.instrument_mocks.MockDAC   \n",
    "\n",
    "  device:\n",
    "    type: qcodes.instrument.delegate.DelegateInstrument\n",
    "    init:\n",
    "      parameters:\n",
    "        readout: lockin.X\n",
    "      channels:\n",
    "        gate_1: dac.ch01\n",
    "      set_initial_values_on_load: true\n",
    "      initial_values:\n",
    "        readout: 1e-5\n",
    "        gate_1.voltage.post_delay: 0.01"
   ]
  },
  {
   "cell_type": "code",
   "execution_count": 24,
   "id": "547e326c",
   "metadata": {
    "execution": {
     "iopub.execute_input": "2022-04-07T16:11:51.994904Z",
     "iopub.status.busy": "2022-04-07T16:11:51.994554Z",
     "iopub.status.idle": "2022-04-07T16:11:52.006470Z",
     "shell.execute_reply": "2022-04-07T16:11:52.005995Z"
    }
   },
   "outputs": [],
   "source": [
    "station = qc.Station(config_file=\"example.yaml\")"
   ]
  },
  {
   "cell_type": "code",
   "execution_count": 25,
   "id": "9a5e43fc",
   "metadata": {
    "execution": {
     "iopub.execute_input": "2022-04-07T16:11:52.008867Z",
     "iopub.status.busy": "2022-04-07T16:11:52.008530Z",
     "iopub.status.idle": "2022-04-07T16:11:52.043172Z",
     "shell.execute_reply": "2022-04-07T16:11:52.042718Z"
    }
   },
   "outputs": [],
   "source": [
    "lockin = station.load_lockin()\n",
    "dac = station.load_dac()\n",
    "device = station.load_device(station=station)"
   ]
  },
  {
   "cell_type": "code",
   "execution_count": 26,
   "id": "e0c03044",
   "metadata": {
    "execution": {
     "iopub.execute_input": "2022-04-07T16:11:52.045568Z",
     "iopub.status.busy": "2022-04-07T16:11:52.045182Z",
     "iopub.status.idle": "2022-04-07T16:11:52.048360Z",
     "shell.execute_reply": "2022-04-07T16:11:52.047869Z"
    }
   },
   "outputs": [
    {
     "name": "stdout",
     "output_type": "stream",
     "text": [
      "<MockDACChannel: dac_ch01 of MockDAC: dac>\n",
      "0.01\n"
     ]
    }
   ],
   "source": [
    "print(device.gate_1)\n",
    "print(device.gate_1.voltage.post_delay)"
   ]
  },
  {
   "cell_type": "code",
   "execution_count": 27,
   "id": "be01db42",
   "metadata": {
    "execution": {
     "iopub.execute_input": "2022-04-07T16:11:52.051259Z",
     "iopub.status.busy": "2022-04-07T16:11:52.050999Z",
     "iopub.status.idle": "2022-04-07T16:11:52.065381Z",
     "shell.execute_reply": "2022-04-07T16:11:52.064896Z"
    }
   },
   "outputs": [
    {
     "name": "stdout",
     "output_type": "stream",
     "text": [
      "0.0\n"
     ]
    },
    {
     "data": {
      "text/plain": [
       "-0.6"
      ]
     },
     "execution_count": 27,
     "metadata": {},
     "output_type": "execute_result"
    }
   ],
   "source": [
    "print(device.gate_1.voltage())\n",
    "device.gate_1.voltage(-0.6)\n",
    "device.gate_1.voltage()"
   ]
  },
  {
   "cell_type": "markdown",
   "id": "aa98564c",
   "metadata": {},
   "source": [
    "The second example adds a channel using a custom channel class, which takes the initial channel and its name as input and has a parameter current_valid_ranges."
   ]
  },
  {
   "cell_type": "code",
   "execution_count": 28,
   "id": "99e942de",
   "metadata": {
    "execution": {
     "iopub.execute_input": "2022-04-07T16:11:52.068204Z",
     "iopub.status.busy": "2022-04-07T16:11:52.067812Z",
     "iopub.status.idle": "2022-04-07T16:11:52.071580Z",
     "shell.execute_reply": "2022-04-07T16:11:52.071068Z"
    }
   },
   "outputs": [
    {
     "name": "stdout",
     "output_type": "stream",
     "text": [
      "Overwriting example.yaml\n"
     ]
    }
   ],
   "source": [
    "%%writefile example.yaml\n",
    "\n",
    "instruments:\n",
    "  lockin:\n",
    "    type: qcodes.tests.instrument_mocks.MockLockin\n",
    "\n",
    "  dac:\n",
    "    type: qcodes.tests.instrument_mocks.MockDAC   \n",
    "\n",
    "  device:\n",
    "    type: qcodes.instrument.delegate.DelegateInstrument\n",
    "    init:\n",
    "      parameters:\n",
    "        readout: lockin.X\n",
    "      channels:\n",
    "        type: qcodes.tests.instrument_mocks.MockCustomChannel\n",
    "        gate_1: \n",
    "          channel: dac.ch01\n",
    "          current_valid_range: [-0.5, 0]\n",
    "      set_initial_values_on_load: true\n",
    "      initial_values:\n",
    "        readout: 1e-5"
   ]
  },
  {
   "cell_type": "code",
   "execution_count": 29,
   "id": "35552027",
   "metadata": {
    "execution": {
     "iopub.execute_input": "2022-04-07T16:11:52.074741Z",
     "iopub.status.busy": "2022-04-07T16:11:52.074343Z",
     "iopub.status.idle": "2022-04-07T16:11:52.077202Z",
     "shell.execute_reply": "2022-04-07T16:11:52.076718Z"
    }
   },
   "outputs": [],
   "source": [
    "lockin.close()\n",
    "dac.close()"
   ]
  },
  {
   "cell_type": "code",
   "execution_count": 30,
   "id": "5ee466b8",
   "metadata": {
    "execution": {
     "iopub.execute_input": "2022-04-07T16:11:52.079597Z",
     "iopub.status.busy": "2022-04-07T16:11:52.079200Z",
     "iopub.status.idle": "2022-04-07T16:11:52.115404Z",
     "shell.execute_reply": "2022-04-07T16:11:52.114941Z"
    }
   },
   "outputs": [],
   "source": [
    "station = qc.Station(config_file=\"example.yaml\")\n",
    "lockin = station.load_lockin()\n",
    "dac = station.load_dac()"
   ]
  },
  {
   "cell_type": "code",
   "execution_count": 31,
   "id": "0c89037e",
   "metadata": {
    "execution": {
     "iopub.execute_input": "2022-04-07T16:11:52.117795Z",
     "iopub.status.busy": "2022-04-07T16:11:52.117395Z",
     "iopub.status.idle": "2022-04-07T16:11:52.130722Z",
     "shell.execute_reply": "2022-04-07T16:11:52.130257Z"
    }
   },
   "outputs": [],
   "source": [
    "device = station.load_device(station=station)"
   ]
  },
  {
   "cell_type": "code",
   "execution_count": 32,
   "id": "c1af5efb",
   "metadata": {
    "execution": {
     "iopub.execute_input": "2022-04-07T16:11:52.133042Z",
     "iopub.status.busy": "2022-04-07T16:11:52.132648Z",
     "iopub.status.idle": "2022-04-07T16:11:52.136489Z",
     "shell.execute_reply": "2022-04-07T16:11:52.135999Z"
    }
   },
   "outputs": [
    {
     "data": {
      "text/plain": [
       "<MockCustomChannel: dac_gate_1 of MockDAC: dac>"
      ]
     },
     "execution_count": 32,
     "metadata": {},
     "output_type": "execute_result"
    }
   ],
   "source": [
    "device.gate_1"
   ]
  },
  {
   "cell_type": "code",
   "execution_count": 33,
   "id": "3db02a7c",
   "metadata": {
    "execution": {
     "iopub.execute_input": "2022-04-07T16:11:52.139282Z",
     "iopub.status.busy": "2022-04-07T16:11:52.138892Z",
     "iopub.status.idle": "2022-04-07T16:11:52.141698Z",
     "shell.execute_reply": "2022-04-07T16:11:52.141199Z"
    }
   },
   "outputs": [],
   "source": [
    "device.gate_1.voltage(-0.3)"
   ]
  },
  {
   "cell_type": "code",
   "execution_count": 34,
   "id": "62d5b39b",
   "metadata": {
    "execution": {
     "iopub.execute_input": "2022-04-07T16:11:52.143921Z",
     "iopub.status.busy": "2022-04-07T16:11:52.143672Z",
     "iopub.status.idle": "2022-04-07T16:11:52.147330Z",
     "shell.execute_reply": "2022-04-07T16:11:52.146844Z"
    }
   },
   "outputs": [
    {
     "data": {
      "text/plain": [
       "-0.3"
      ]
     },
     "execution_count": 34,
     "metadata": {},
     "output_type": "execute_result"
    }
   ],
   "source": [
    "device.gate_1.voltage()"
   ]
  },
  {
   "cell_type": "markdown",
   "id": "3ceff624",
   "metadata": {},
   "source": [
    "The MockCustomChannel has a parameter `current_valid_range`."
   ]
  },
  {
   "cell_type": "code",
   "execution_count": 35,
   "id": "40bc484c",
   "metadata": {
    "execution": {
     "iopub.execute_input": "2022-04-07T16:11:52.150007Z",
     "iopub.status.busy": "2022-04-07T16:11:52.149752Z",
     "iopub.status.idle": "2022-04-07T16:11:52.153505Z",
     "shell.execute_reply": "2022-04-07T16:11:52.153017Z"
    }
   },
   "outputs": [
    {
     "data": {
      "text/plain": [
       "[-0.5, 0]"
      ]
     },
     "execution_count": 35,
     "metadata": {},
     "output_type": "execute_result"
    }
   ],
   "source": [
    "device.gate_1.current_valid_range()"
   ]
  }
 ],
 "metadata": {
  "kernelspec": {
   "display_name": "Python 3.7.9 64-bit ('qcodes_fork': conda)",
   "name": "python379jvsc74a57bd02b540bc2d5f6bd8c1d4c354bd6559a26f5871610d8f84463e1d37eff37c7ba44"
  },
  "language_info": {
   "codemirror_mode": {
    "name": "ipython",
    "version": 3
   },
   "file_extension": ".py",
   "mimetype": "text/x-python",
   "name": "python",
   "nbconvert_exporter": "python",
   "pygments_lexer": "ipython3",
   "version": "3.9.12"
  }
 },
 "nbformat": 4,
 "nbformat_minor": 5
}
